{
 "cells": [
  {
   "cell_type": "markdown",
   "id": "786a1dbf",
   "metadata": {},
   "source": [
    "<center>\n",
    "    <h1>NEWSPAPER</h1>\n",
    "    <h3>Article Scraping and Curation</h3>\n",
    "</center>\n",
    "<hr>"
   ]
  },
  {
   "cell_type": "markdown",
   "id": "2a44af49",
   "metadata": {},
   "source": [
    "<h2>What does experts say?</h2>\n",
    "\n",
    "<ul>\n",
    "    <li><i>“Newspaper is an amazing python library for extracting & curating articles.”</i></li>\n",
    "    <li><i>“Newspaper delivers Instapaper style article extraction.”</i></li>\n",
    "</ul>\n",
    "<hr>"
   ]
  },
  {
   "cell_type": "markdown",
   "id": "f95cabfe",
   "metadata": {},
   "source": [
    "<u><h2>Pacakage Installation</h2></u>"
   ]
  },
  {
   "cell_type": "code",
   "execution_count": null,
   "id": "f1f94c9c",
   "metadata": {},
   "outputs": [],
   "source": [
    "! pip install newspaper3k"
   ]
  },
  {
   "cell_type": "code",
   "execution_count": null,
   "id": "f3da853a",
   "metadata": {},
   "outputs": [],
   "source": [
    "import requests # for making api requests (get, post, put, delete)\n",
    "import newspaper \n",
    "from newspaper import Article\n",
    "from newspaper import fulltext"
   ]
  },
  {
   "cell_type": "markdown",
   "id": "b02eec11",
   "metadata": {},
   "source": [
    "<u><h2>Available Languages</h2></u>"
   ]
  },
  {
   "cell_type": "code",
   "execution_count": null,
   "id": "9da7520a",
   "metadata": {},
   "outputs": [],
   "source": [
    "newspaper.languages() # available languages in newspaper module"
   ]
  },
  {
   "cell_type": "markdown",
   "id": "d124c314",
   "metadata": {},
   "source": [
    "<u><h2>Working with Articles</h2></u>"
   ]
  },
  {
   "cell_type": "code",
   "execution_count": null,
   "id": "ec74c940",
   "metadata": {},
   "outputs": [],
   "source": [
    "url = input(\"Enter article URL: \")"
   ]
  },
  {
   "cell_type": "code",
   "execution_count": null,
   "id": "69f5ea15",
   "metadata": {},
   "outputs": [],
   "source": [
    "article = Article(url, language='zh')\n",
    "article.download()"
   ]
  },
  {
   "cell_type": "code",
   "execution_count": null,
   "id": "993f011e",
   "metadata": {},
   "outputs": [],
   "source": [
    "article.html"
   ]
  },
  {
   "cell_type": "markdown",
   "id": "ad0ddb73",
   "metadata": {},
   "source": [
    "<hr>"
   ]
  },
  {
   "cell_type": "markdown",
   "id": "c1ca8922",
   "metadata": {},
   "source": [
    "<h3>Article Parsing</h3>"
   ]
  },
  {
   "cell_type": "code",
   "execution_count": null,
   "id": "00c330a9",
   "metadata": {},
   "outputs": [],
   "source": [
    "article.parse() # processing article to get specific data such as authors, publish_data, images e.t.c"
   ]
  },
  {
   "cell_type": "code",
   "execution_count": null,
   "id": "6b2def35",
   "metadata": {},
   "outputs": [],
   "source": [
    "article.authors"
   ]
  },
  {
   "cell_type": "code",
   "execution_count": null,
   "id": "c26630ca",
   "metadata": {},
   "outputs": [],
   "source": [
    "article.publish_date"
   ]
  },
  {
   "cell_type": "code",
   "execution_count": null,
   "id": "768b08f4",
   "metadata": {},
   "outputs": [],
   "source": [
    "article.text"
   ]
  },
  {
   "cell_type": "code",
   "execution_count": null,
   "id": "c5b22af9",
   "metadata": {},
   "outputs": [],
   "source": [
    "article.top_image"
   ]
  },
  {
   "cell_type": "code",
   "execution_count": null,
   "id": "7836c2a8",
   "metadata": {},
   "outputs": [],
   "source": [
    "article.images"
   ]
  },
  {
   "cell_type": "markdown",
   "id": "1e7559b2",
   "metadata": {},
   "source": [
    "<h3>Article Natural Language Processing</h3>"
   ]
  },
  {
   "cell_type": "code",
   "execution_count": null,
   "id": "e7298e49",
   "metadata": {},
   "outputs": [],
   "source": [
    "article.nlp() # processing natural language based functions to get language based predictions of article"
   ]
  },
  {
   "cell_type": "code",
   "execution_count": null,
   "id": "eea48f86",
   "metadata": {},
   "outputs": [],
   "source": [
    "article.keywords"
   ]
  },
  {
   "cell_type": "code",
   "execution_count": null,
   "id": "31412d07",
   "metadata": {},
   "outputs": [],
   "source": [
    "article.summary"
   ]
  },
  {
   "cell_type": "markdown",
   "id": "6e406cf8",
   "metadata": {},
   "source": [
    "<u><h2>Working with Newspapers</h2></u>"
   ]
  },
  {
   "cell_type": "code",
   "execution_count": null,
   "id": "9f8c3f14",
   "metadata": {},
   "outputs": [],
   "source": [
    "url = input(\"Enter newspaper URL: \")"
   ]
  },
  {
   "cell_type": "code",
   "execution_count": null,
   "id": "9e15fc96",
   "metadata": {},
   "outputs": [],
   "source": [
    "import newspaper\n",
    "\n",
    "newspaper = newspaper.build(url, memoize_articles=False, language='zh')"
   ]
  },
  {
   "cell_type": "code",
   "execution_count": null,
   "id": "7b1bfdb3",
   "metadata": {},
   "outputs": [],
   "source": [
    "newspaper.size()"
   ]
  },
  {
   "cell_type": "code",
   "execution_count": null,
   "id": "5e474820",
   "metadata": {},
   "outputs": [],
   "source": [
    "newspaper.brand"
   ]
  },
  {
   "cell_type": "code",
   "execution_count": null,
   "id": "113abd18",
   "metadata": {},
   "outputs": [],
   "source": [
    "newspaper.description"
   ]
  },
  {
   "cell_type": "code",
   "execution_count": null,
   "id": "af7a4fa4",
   "metadata": {},
   "outputs": [],
   "source": [
    "articles = newspaper.articles # articles present in the newspaper \n",
    "categories = newspaper.category_urls() # URLs for categories which belongs to the newspaper\n",
    "feeds = newspaper.feed_urls() # URLs for feeds which available in the newspaper"
   ]
  },
  {
   "cell_type": "code",
   "execution_count": null,
   "id": "6f56e5ad",
   "metadata": {},
   "outputs": [],
   "source": [
    "for article in articles:\n",
    "    print(article.url)"
   ]
  },
  {
   "cell_type": "code",
   "execution_count": null,
   "id": "19dff396",
   "metadata": {},
   "outputs": [],
   "source": [
    "for category in categories:\n",
    "    print(category)"
   ]
  },
  {
   "cell_type": "code",
   "execution_count": null,
   "id": "708bd5b7",
   "metadata": {},
   "outputs": [],
   "source": [
    "for feed in feeds:\n",
    "    print(feed)"
   ]
  },
  {
   "cell_type": "code",
   "execution_count": null,
   "id": "5dcd8244",
   "metadata": {},
   "outputs": [],
   "source": [
    "article = articles[100]\n",
    "\n",
    "article.download()\n",
    "article.parse()\n",
    "article.html"
   ]
  },
  {
   "cell_type": "markdown",
   "id": "463cac87",
   "metadata": {},
   "source": [
    "<u><h2>HTML to Plain Text</h2></u>"
   ]
  },
  {
   "cell_type": "code",
   "execution_count": null,
   "id": "ea2da2bb",
   "metadata": {},
   "outputs": [],
   "source": [
    "url = input(\"Enter any URL: \")\n",
    "\n",
    "response = requests.get(url) \n",
    "html = response.text \n",
    "plainText = fulltext(html)\n",
    "plainText"
   ]
  },
  {
   "cell_type": "markdown",
   "id": "87b7f258",
   "metadata": {},
   "source": [
    "<u><h2>Easter Eggs</h2></u>"
   ]
  },
  {
   "cell_type": "code",
   "execution_count": null,
   "id": "bfd9e561",
   "metadata": {},
   "outputs": [],
   "source": [
    "import newspaper\n",
    "\n",
    "newspaper.hot() # getting a list of top trending terms on google using public api"
   ]
  },
  {
   "cell_type": "code",
   "execution_count": null,
   "id": "de3d75ce",
   "metadata": {},
   "outputs": [],
   "source": [
    "newspaper.popular_urls() # list of latest and popular news source URLs"
   ]
  },
  {
   "cell_type": "markdown",
   "id": "0f283529",
   "metadata": {},
   "source": [
    "<h3>References</h3>"
   ]
  },
  {
   "cell_type": "markdown",
   "id": "3911cc90",
   "metadata": {},
   "source": [
    "<ul>\n",
    "    <li><a href=\"https://newspaper.readthedocs.io/en/latest/user_guide/quickstart.html\">Quickstart to Newspaper</a></li>\n",
    "    <li><a href=\"https://newspaper.readthedocs.io/en/latest/\">Official Documentation</a></li>\n",
    "</ul>"
   ]
  },
  {
   "cell_type": "code",
   "execution_count": null,
   "id": "43a1d413",
   "metadata": {},
   "outputs": [],
   "source": []
  }
 ],
 "metadata": {
  "kernelspec": {
   "display_name": "Python 3 (ipykernel)",
   "language": "python",
   "name": "python3"
  },
  "language_info": {
   "codemirror_mode": {
    "name": "ipython",
    "version": 3
   },
   "file_extension": ".py",
   "mimetype": "text/x-python",
   "name": "python",
   "nbconvert_exporter": "python",
   "pygments_lexer": "ipython3",
   "version": "3.7.2"
  }
 },
 "nbformat": 4,
 "nbformat_minor": 5
}
